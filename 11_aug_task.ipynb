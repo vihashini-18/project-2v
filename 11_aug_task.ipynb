{
  "cells": [
    {
      "cell_type": "markdown",
      "metadata": {
        "id": "sjDbjlSIOEkZ"
      },
      "source": [
        "Fast Food Spending Analysis\n"
      ]
    },
    {
      "cell_type": "markdown",
      "metadata": {
        "id": "6pm8TsysOR4i"
      },
      "source": [
        "Part 1 – Basic Data Understanding (Pandas)\n",
        "\n",
        "Load the CSV file into a Pandas DataFrame.\n",
        "\n",
        "\n",
        "Display the first 10 rows of data.\n",
        "\n",
        "\n",
        "Show the shape, column names, and data types.\n",
        "\n",
        "\n",
        "Check for missing values and duplicates.\n",
        "\n",
        "\n",
        "Use .describe() to get summary statistics.\n",
        "\n",
        "\n"
      ]
    },
    {
      "cell_type": "markdown",
      "metadata": {
        "id": "RQFZnf-zOaXt"
      },
      "source": [
        "Load the CSV file into a Pandas DataFrame."
      ]
    },
    {
      "cell_type": "code",
      "execution_count": 4,
      "metadata": {
        "colab": {
          "base_uri": "https://localhost:8080/"
        },
        "id": "7T2CtGUWOXya",
        "outputId": "cda0c141-a1be-43db-9582-53038bf68b9d"
      },
      "outputs": [
        {
          "name": "stdout",
          "output_type": "stream",
          "text": [
            "                    state     region  fast_food_millions\n",
            "0                 Alabama      South                  83\n",
            "1                  Alaska       West                  80\n",
            "2                 Arizona       West                  81\n",
            "3                Arkansas      South                  45\n",
            "4              California       West                  52\n",
            "..                    ...        ...                 ...\n",
            "95  New Hampshire_extra28  Northeast                  92\n",
            "96    Mississippi_extra23      South                  87\n",
            "97        Montana_extra25       West                  73\n",
            "98         Hawaii_extra10       West                  81\n",
            "99        Indiana_extra13    Midwest                  82\n",
            "\n",
            "[100 rows x 3 columns]\n"
          ]
        }
      ],
      "source": [
        "import pandas as pd\n",
        "df = pd.read_csv(r\"D:\\python test\\fast_food_dataset (1).csv\")\n",
        "\n",
        "print(df)"
      ]
    },
    {
      "cell_type": "code",
      "execution_count": 5,
      "metadata": {
        "colab": {
          "base_uri": "https://localhost:8080/",
          "height": 363
        },
        "id": "r1jpgwarOATO",
        "outputId": "3e7b5d65-67b2-4f33-e835-7a42b8f6959d"
      },
      "outputs": [
        {
          "data": {
            "text/html": [
              "<div>\n",
              "<style scoped>\n",
              "    .dataframe tbody tr th:only-of-type {\n",
              "        vertical-align: middle;\n",
              "    }\n",
              "\n",
              "    .dataframe tbody tr th {\n",
              "        vertical-align: top;\n",
              "    }\n",
              "\n",
              "    .dataframe thead th {\n",
              "        text-align: right;\n",
              "    }\n",
              "</style>\n",
              "<table border=\"1\" class=\"dataframe\">\n",
              "  <thead>\n",
              "    <tr style=\"text-align: right;\">\n",
              "      <th></th>\n",
              "      <th>state</th>\n",
              "      <th>region</th>\n",
              "      <th>fast_food_millions</th>\n",
              "    </tr>\n",
              "  </thead>\n",
              "  <tbody>\n",
              "    <tr>\n",
              "      <th>0</th>\n",
              "      <td>Alabama</td>\n",
              "      <td>South</td>\n",
              "      <td>83</td>\n",
              "    </tr>\n",
              "    <tr>\n",
              "      <th>1</th>\n",
              "      <td>Alaska</td>\n",
              "      <td>West</td>\n",
              "      <td>80</td>\n",
              "    </tr>\n",
              "    <tr>\n",
              "      <th>2</th>\n",
              "      <td>Arizona</td>\n",
              "      <td>West</td>\n",
              "      <td>81</td>\n",
              "    </tr>\n",
              "    <tr>\n",
              "      <th>3</th>\n",
              "      <td>Arkansas</td>\n",
              "      <td>South</td>\n",
              "      <td>45</td>\n",
              "    </tr>\n",
              "    <tr>\n",
              "      <th>4</th>\n",
              "      <td>California</td>\n",
              "      <td>West</td>\n",
              "      <td>52</td>\n",
              "    </tr>\n",
              "    <tr>\n",
              "      <th>5</th>\n",
              "      <td>Colorado</td>\n",
              "      <td>West</td>\n",
              "      <td>84</td>\n",
              "    </tr>\n",
              "    <tr>\n",
              "      <th>6</th>\n",
              "      <td>Connecticut</td>\n",
              "      <td>Northeast</td>\n",
              "      <td>13</td>\n",
              "    </tr>\n",
              "    <tr>\n",
              "      <th>7</th>\n",
              "      <td>Delaware</td>\n",
              "      <td>South</td>\n",
              "      <td>39</td>\n",
              "    </tr>\n",
              "    <tr>\n",
              "      <th>8</th>\n",
              "      <td>Florida</td>\n",
              "      <td>South</td>\n",
              "      <td>78</td>\n",
              "    </tr>\n",
              "    <tr>\n",
              "      <th>9</th>\n",
              "      <td>Georgia</td>\n",
              "      <td>South</td>\n",
              "      <td>29</td>\n",
              "    </tr>\n",
              "  </tbody>\n",
              "</table>\n",
              "</div>"
            ],
            "text/plain": [
              "         state     region  fast_food_millions\n",
              "0      Alabama      South                  83\n",
              "1       Alaska       West                  80\n",
              "2      Arizona       West                  81\n",
              "3     Arkansas      South                  45\n",
              "4   California       West                  52\n",
              "5     Colorado       West                  84\n",
              "6  Connecticut  Northeast                  13\n",
              "7     Delaware      South                  39\n",
              "8      Florida      South                  78\n",
              "9      Georgia      South                  29"
            ]
          },
          "execution_count": 5,
          "metadata": {},
          "output_type": "execute_result"
        }
      ],
      "source": [
        "df.head(10)"
      ]
    },
    {
      "cell_type": "markdown",
      "metadata": {
        "id": "JNDLKwOKQVlY"
      },
      "source": [
        "show the shape,column names and datatype"
      ]
    },
    {
      "cell_type": "code",
      "execution_count": null,
      "metadata": {
        "colab": {
          "base_uri": "https://localhost:8080/",
          "height": 193
        },
        "id": "VVgzzzcLQMhy",
        "outputId": "0930fa61-7cc9-4d2d-b102-3a91a26d27c4"
      },
      "outputs": [
        {
          "ename": "NameError",
          "evalue": "name 'df' is not defined",
          "output_type": "error",
          "traceback": [
            "\u001b[0;31m---------------------------------------------------------------------------\u001b[0m",
            "\u001b[0;31mNameError\u001b[0m                                 Traceback (most recent call last)",
            "\u001b[0;32m/tmp/ipython-input-2269703704.py\u001b[0m in \u001b[0;36m<cell line: 0>\u001b[0;34m()\u001b[0m\n\u001b[0;32m----> 1\u001b[0;31m \u001b[0mprint\u001b[0m\u001b[0;34m(\u001b[0m\u001b[0mdf\u001b[0m\u001b[0;34m.\u001b[0m\u001b[0mshape\u001b[0m\u001b[0;34m)\u001b[0m\u001b[0;34m\u001b[0m\u001b[0;34m\u001b[0m\u001b[0m\n\u001b[0m\u001b[1;32m      2\u001b[0m \u001b[0mprint\u001b[0m\u001b[0;34m(\u001b[0m\u001b[0mdf\u001b[0m\u001b[0;34m.\u001b[0m\u001b[0mcolumns\u001b[0m\u001b[0;34m)\u001b[0m\u001b[0;34m\u001b[0m\u001b[0;34m\u001b[0m\u001b[0m\n\u001b[1;32m      3\u001b[0m \u001b[0mprint\u001b[0m\u001b[0;34m(\u001b[0m\u001b[0mdf\u001b[0m\u001b[0;34m.\u001b[0m\u001b[0mdtypes\u001b[0m\u001b[0;34m)\u001b[0m\u001b[0;34m\u001b[0m\u001b[0;34m\u001b[0m\u001b[0m\n\u001b[1;32m      4\u001b[0m \u001b[0mprint\u001b[0m\u001b[0;34m(\u001b[0m\u001b[0mdf\u001b[0m\u001b[0;34m.\u001b[0m\u001b[0mnunique\u001b[0m\u001b[0;34m(\u001b[0m\u001b[0;34m)\u001b[0m\u001b[0;34m)\u001b[0m\u001b[0;34m\u001b[0m\u001b[0;34m\u001b[0m\u001b[0m\n",
            "\u001b[0;31mNameError\u001b[0m: name 'df' is not defined"
          ]
        }
      ],
      "source": [
        "print(df.shape)\n",
        "print(df.columns)\n",
        "print(df.dtypes)\n",
        "print(df.nunique())"
      ]
    },
    {
      "cell_type": "code",
      "execution_count": null,
      "metadata": {
        "colab": {
          "base_uri": "https://localhost:8080/"
        },
        "id": "BLI2MgQHREoq",
        "outputId": "3e33169c-d0bc-46cf-c7e1-48d4c4191c9d"
      },
      "outputs": [
        {
          "name": "stdout",
          "output_type": "stream",
          "text": [
            "    state  region  fast_food_millions  Above_Average  Spending_Per_Capita  \\\n",
            "0   False   False               False          False                False   \n",
            "1   False   False               False          False                False   \n",
            "2   False   False               False          False                False   \n",
            "3   False   False               False          False                False   \n",
            "4   False   False               False          False                False   \n",
            "..    ...     ...                 ...            ...                  ...   \n",
            "95  False   False               False          False                False   \n",
            "96  False   False               False          False                False   \n",
            "97  False   False               False          False                False   \n",
            "98  False   False               False          False                False   \n",
            "99  False   False               False          False                False   \n",
            "\n",
            "    Region_Rank  Spending_Quartile  \n",
            "0         False              False  \n",
            "1         False              False  \n",
            "2         False              False  \n",
            "3         False              False  \n",
            "4         False              False  \n",
            "..          ...                ...  \n",
            "95        False              False  \n",
            "96        False              False  \n",
            "97        False              False  \n",
            "98        False              False  \n",
            "99        False              False  \n",
            "\n",
            "[100 rows x 7 columns]\n",
            "0     False\n",
            "1     False\n",
            "2     False\n",
            "3     False\n",
            "4     False\n",
            "      ...  \n",
            "95     True\n",
            "96     True\n",
            "97     True\n",
            "98    False\n",
            "99     True\n",
            "Length: 100, dtype: bool\n"
          ]
        }
      ],
      "source": [
        "print(df.isna())\n",
        "print(df.duplicated())"
      ]
    },
    {
      "cell_type": "code",
      "execution_count": null,
      "metadata": {
        "colab": {
          "base_uri": "https://localhost:8080/",
          "height": 300
        },
        "id": "r9sb2ESBRUYM",
        "outputId": "dfebe931-e74e-4973-a8cb-18cf6b68cd85"
      },
      "outputs": [
        {
          "data": {
            "application/vnd.google.colaboratory.intrinsic+json": {
              "summary": "{\n  \"name\": \"df\",\n  \"rows\": 8,\n  \"fields\": [\n    {\n      \"column\": \"fast_food_millions\",\n      \"properties\": {\n        \"dtype\": \"number\",\n        \"std\": 33.06840414349967,\n        \"min\": 11.0,\n        \"max\": 100.0,\n        \"num_unique_values\": 7,\n        \"samples\": [\n          100.0,\n          64.16,\n          72.0\n        ],\n        \"semantic_type\": \"\",\n        \"description\": \"\"\n      }\n    }\n  ]\n}",
              "type": "dataframe"
            },
            "text/html": [
              "\n",
              "  <div id=\"df-9e5a673e-e958-45cb-bd01-39f935312707\" class=\"colab-df-container\">\n",
              "    <div>\n",
              "<style scoped>\n",
              "    .dataframe tbody tr th:only-of-type {\n",
              "        vertical-align: middle;\n",
              "    }\n",
              "\n",
              "    .dataframe tbody tr th {\n",
              "        vertical-align: top;\n",
              "    }\n",
              "\n",
              "    .dataframe thead th {\n",
              "        text-align: right;\n",
              "    }\n",
              "</style>\n",
              "<table border=\"1\" class=\"dataframe\">\n",
              "  <thead>\n",
              "    <tr style=\"text-align: right;\">\n",
              "      <th></th>\n",
              "      <th>fast_food_millions</th>\n",
              "    </tr>\n",
              "  </thead>\n",
              "  <tbody>\n",
              "    <tr>\n",
              "      <th>count</th>\n",
              "      <td>100.000000</td>\n",
              "    </tr>\n",
              "    <tr>\n",
              "      <th>mean</th>\n",
              "      <td>64.160000</td>\n",
              "    </tr>\n",
              "    <tr>\n",
              "      <th>std</th>\n",
              "      <td>27.981856</td>\n",
              "    </tr>\n",
              "    <tr>\n",
              "      <th>min</th>\n",
              "      <td>11.000000</td>\n",
              "    </tr>\n",
              "    <tr>\n",
              "      <th>25%</th>\n",
              "      <td>42.500000</td>\n",
              "    </tr>\n",
              "    <tr>\n",
              "      <th>50%</th>\n",
              "      <td>72.000000</td>\n",
              "    </tr>\n",
              "    <tr>\n",
              "      <th>75%</th>\n",
              "      <td>85.000000</td>\n",
              "    </tr>\n",
              "    <tr>\n",
              "      <th>max</th>\n",
              "      <td>100.000000</td>\n",
              "    </tr>\n",
              "  </tbody>\n",
              "</table>\n",
              "</div>\n",
              "    <div class=\"colab-df-buttons\">\n",
              "\n",
              "  <div class=\"colab-df-container\">\n",
              "    <button class=\"colab-df-convert\" onclick=\"convertToInteractive('df-9e5a673e-e958-45cb-bd01-39f935312707')\"\n",
              "            title=\"Convert this dataframe to an interactive table.\"\n",
              "            style=\"display:none;\">\n",
              "\n",
              "  <svg xmlns=\"http://www.w3.org/2000/svg\" height=\"24px\" viewBox=\"0 -960 960 960\">\n",
              "    <path d=\"M120-120v-720h720v720H120Zm60-500h600v-160H180v160Zm220 220h160v-160H400v160Zm0 220h160v-160H400v160ZM180-400h160v-160H180v160Zm440 0h160v-160H620v160ZM180-180h160v-160H180v160Zm440 0h160v-160H620v160Z\"/>\n",
              "  </svg>\n",
              "    </button>\n",
              "\n",
              "  <style>\n",
              "    .colab-df-container {\n",
              "      display:flex;\n",
              "      gap: 12px;\n",
              "    }\n",
              "\n",
              "    .colab-df-convert {\n",
              "      background-color: #E8F0FE;\n",
              "      border: none;\n",
              "      border-radius: 50%;\n",
              "      cursor: pointer;\n",
              "      display: none;\n",
              "      fill: #1967D2;\n",
              "      height: 32px;\n",
              "      padding: 0 0 0 0;\n",
              "      width: 32px;\n",
              "    }\n",
              "\n",
              "    .colab-df-convert:hover {\n",
              "      background-color: #E2EBFA;\n",
              "      box-shadow: 0px 1px 2px rgba(60, 64, 67, 0.3), 0px 1px 3px 1px rgba(60, 64, 67, 0.15);\n",
              "      fill: #174EA6;\n",
              "    }\n",
              "\n",
              "    .colab-df-buttons div {\n",
              "      margin-bottom: 4px;\n",
              "    }\n",
              "\n",
              "    [theme=dark] .colab-df-convert {\n",
              "      background-color: #3B4455;\n",
              "      fill: #D2E3FC;\n",
              "    }\n",
              "\n",
              "    [theme=dark] .colab-df-convert:hover {\n",
              "      background-color: #434B5C;\n",
              "      box-shadow: 0px 1px 3px 1px rgba(0, 0, 0, 0.15);\n",
              "      filter: drop-shadow(0px 1px 2px rgba(0, 0, 0, 0.3));\n",
              "      fill: #FFFFFF;\n",
              "    }\n",
              "  </style>\n",
              "\n",
              "    <script>\n",
              "      const buttonEl =\n",
              "        document.querySelector('#df-9e5a673e-e958-45cb-bd01-39f935312707 button.colab-df-convert');\n",
              "      buttonEl.style.display =\n",
              "        google.colab.kernel.accessAllowed ? 'block' : 'none';\n",
              "\n",
              "      async function convertToInteractive(key) {\n",
              "        const element = document.querySelector('#df-9e5a673e-e958-45cb-bd01-39f935312707');\n",
              "        const dataTable =\n",
              "          await google.colab.kernel.invokeFunction('convertToInteractive',\n",
              "                                                    [key], {});\n",
              "        if (!dataTable) return;\n",
              "\n",
              "        const docLinkHtml = 'Like what you see? Visit the ' +\n",
              "          '<a target=\"_blank\" href=https://colab.research.google.com/notebooks/data_table.ipynb>data table notebook</a>'\n",
              "          + ' to learn more about interactive tables.';\n",
              "        element.innerHTML = '';\n",
              "        dataTable['output_type'] = 'display_data';\n",
              "        await google.colab.output.renderOutput(dataTable, element);\n",
              "        const docLink = document.createElement('div');\n",
              "        docLink.innerHTML = docLinkHtml;\n",
              "        element.appendChild(docLink);\n",
              "      }\n",
              "    </script>\n",
              "  </div>\n",
              "\n",
              "\n",
              "    <div id=\"df-8855c166-040a-434c-8f9a-04c1f3936a04\">\n",
              "      <button class=\"colab-df-quickchart\" onclick=\"quickchart('df-8855c166-040a-434c-8f9a-04c1f3936a04')\"\n",
              "                title=\"Suggest charts\"\n",
              "                style=\"display:none;\">\n",
              "\n",
              "<svg xmlns=\"http://www.w3.org/2000/svg\" height=\"24px\"viewBox=\"0 0 24 24\"\n",
              "     width=\"24px\">\n",
              "    <g>\n",
              "        <path d=\"M19 3H5c-1.1 0-2 .9-2 2v14c0 1.1.9 2 2 2h14c1.1 0 2-.9 2-2V5c0-1.1-.9-2-2-2zM9 17H7v-7h2v7zm4 0h-2V7h2v10zm4 0h-2v-4h2v4z\"/>\n",
              "    </g>\n",
              "</svg>\n",
              "      </button>\n",
              "\n",
              "<style>\n",
              "  .colab-df-quickchart {\n",
              "      --bg-color: #E8F0FE;\n",
              "      --fill-color: #1967D2;\n",
              "      --hover-bg-color: #E2EBFA;\n",
              "      --hover-fill-color: #174EA6;\n",
              "      --disabled-fill-color: #AAA;\n",
              "      --disabled-bg-color: #DDD;\n",
              "  }\n",
              "\n",
              "  [theme=dark] .colab-df-quickchart {\n",
              "      --bg-color: #3B4455;\n",
              "      --fill-color: #D2E3FC;\n",
              "      --hover-bg-color: #434B5C;\n",
              "      --hover-fill-color: #FFFFFF;\n",
              "      --disabled-bg-color: #3B4455;\n",
              "      --disabled-fill-color: #666;\n",
              "  }\n",
              "\n",
              "  .colab-df-quickchart {\n",
              "    background-color: var(--bg-color);\n",
              "    border: none;\n",
              "    border-radius: 50%;\n",
              "    cursor: pointer;\n",
              "    display: none;\n",
              "    fill: var(--fill-color);\n",
              "    height: 32px;\n",
              "    padding: 0;\n",
              "    width: 32px;\n",
              "  }\n",
              "\n",
              "  .colab-df-quickchart:hover {\n",
              "    background-color: var(--hover-bg-color);\n",
              "    box-shadow: 0 1px 2px rgba(60, 64, 67, 0.3), 0 1px 3px 1px rgba(60, 64, 67, 0.15);\n",
              "    fill: var(--button-hover-fill-color);\n",
              "  }\n",
              "\n",
              "  .colab-df-quickchart-complete:disabled,\n",
              "  .colab-df-quickchart-complete:disabled:hover {\n",
              "    background-color: var(--disabled-bg-color);\n",
              "    fill: var(--disabled-fill-color);\n",
              "    box-shadow: none;\n",
              "  }\n",
              "\n",
              "  .colab-df-spinner {\n",
              "    border: 2px solid var(--fill-color);\n",
              "    border-color: transparent;\n",
              "    border-bottom-color: var(--fill-color);\n",
              "    animation:\n",
              "      spin 1s steps(1) infinite;\n",
              "  }\n",
              "\n",
              "  @keyframes spin {\n",
              "    0% {\n",
              "      border-color: transparent;\n",
              "      border-bottom-color: var(--fill-color);\n",
              "      border-left-color: var(--fill-color);\n",
              "    }\n",
              "    20% {\n",
              "      border-color: transparent;\n",
              "      border-left-color: var(--fill-color);\n",
              "      border-top-color: var(--fill-color);\n",
              "    }\n",
              "    30% {\n",
              "      border-color: transparent;\n",
              "      border-left-color: var(--fill-color);\n",
              "      border-top-color: var(--fill-color);\n",
              "      border-right-color: var(--fill-color);\n",
              "    }\n",
              "    40% {\n",
              "      border-color: transparent;\n",
              "      border-right-color: var(--fill-color);\n",
              "      border-top-color: var(--fill-color);\n",
              "    }\n",
              "    60% {\n",
              "      border-color: transparent;\n",
              "      border-right-color: var(--fill-color);\n",
              "    }\n",
              "    80% {\n",
              "      border-color: transparent;\n",
              "      border-right-color: var(--fill-color);\n",
              "      border-bottom-color: var(--fill-color);\n",
              "    }\n",
              "    90% {\n",
              "      border-color: transparent;\n",
              "      border-bottom-color: var(--fill-color);\n",
              "    }\n",
              "  }\n",
              "</style>\n",
              "\n",
              "      <script>\n",
              "        async function quickchart(key) {\n",
              "          const quickchartButtonEl =\n",
              "            document.querySelector('#' + key + ' button');\n",
              "          quickchartButtonEl.disabled = true;  // To prevent multiple clicks.\n",
              "          quickchartButtonEl.classList.add('colab-df-spinner');\n",
              "          try {\n",
              "            const charts = await google.colab.kernel.invokeFunction(\n",
              "                'suggestCharts', [key], {});\n",
              "          } catch (error) {\n",
              "            console.error('Error during call to suggestCharts:', error);\n",
              "          }\n",
              "          quickchartButtonEl.classList.remove('colab-df-spinner');\n",
              "          quickchartButtonEl.classList.add('colab-df-quickchart-complete');\n",
              "        }\n",
              "        (() => {\n",
              "          let quickchartButtonEl =\n",
              "            document.querySelector('#df-8855c166-040a-434c-8f9a-04c1f3936a04 button');\n",
              "          quickchartButtonEl.style.display =\n",
              "            google.colab.kernel.accessAllowed ? 'block' : 'none';\n",
              "        })();\n",
              "      </script>\n",
              "    </div>\n",
              "\n",
              "    </div>\n",
              "  </div>\n"
            ],
            "text/plain": [
              "       fast_food_millions\n",
              "count          100.000000\n",
              "mean            64.160000\n",
              "std             27.981856\n",
              "min             11.000000\n",
              "25%             42.500000\n",
              "50%             72.000000\n",
              "75%             85.000000\n",
              "max            100.000000"
            ]
          },
          "execution_count": 18,
          "metadata": {},
          "output_type": "execute_result"
        }
      ],
      "source": [
        "df.describe()"
      ]
    },
    {
      "cell_type": "markdown",
      "metadata": {
        "id": "ZTAzSNN7Rfro"
      },
      "source": [
        "Part 2 –EDA (Exploratory Data Analysis)\n",
        "\n",
        "Plot a histogram for fast_food_millions.\n",
        "\n",
        "\n",
        "Find the top 10 states with the highest fast food spending.\n",
        "\n",
        "\n",
        "Find the bottom 10 states with the lowest fast food spending.\n",
        "\n",
        "\n",
        "Create a bar chart showing average fast food spending by region.\n",
        "\n",
        "\n",
        "Create a boxplot of fast_food_millions grouped by region to detect outliers."
      ]
    },
    {
      "cell_type": "code",
      "execution_count": null,
      "metadata": {
        "colab": {
          "base_uri": "https://localhost:8080/",
          "height": 472
        },
        "id": "bhMnWvSNRpxJ",
        "outputId": "5a158f92-a634-4dde-bea3-0603c1a6e28f"
      },
      "outputs": [
        {
          "data": {
            "image/png": "[encoded data removed]",
            "text/plain": [
              "<Figure size 640x480 with 1 Axes>"
            ]
          },
          "metadata": {},
          "output_type": "display_data"
        }
      ],
      "source": [
        "import matplotlib.pyplot as plt\n",
        "plt.hist(df[\"fast_food_millions\"],bins=10,edgecolor=\"black\")\n",
        "plt.title(\"histogram\")\n",
        "plt.xlabel(\"fast_food_millions\")\n",
        "plt.ylabel(\"frequency\")\n",
        "plt.show()"
      ]
    },
    {
      "cell_type": "code",
      "execution_count": null,
      "metadata": {
        "colab": {
          "base_uri": "https://localhost:8080/"
        },
        "id": "Fg752XvgR6Fg",
        "outputId": "2cb27655-c6ff-4e0e-ab84-7013ae7af4e1"
      },
      "outputs": [
        {
          "name": "stdout",
          "output_type": "stream",
          "text": [
            "top state\n",
            "Virginia_extra45          237\n",
            "Montana_extra25           219\n",
            "Illinois_extra12          201\n",
            "Pennsylvania_extra37      200\n",
            "Tennessee_extra41         200\n",
            "North Carolina_extra32    196\n",
            "New Hampshire_extra28     184\n",
            "Mississippi_extra23       174\n",
            "Maine_extra18             170\n",
            "Indiana_extra13           164\n",
            "Name: fast_food_millions, dtype: int64\n",
            "bottom state\n",
            "Louisiana            11\n",
            "Louisiana_extra17    11\n",
            "Connecticut          13\n",
            "Ohio                 15\n",
            "Wyoming              15\n",
            "North Dakota         16\n",
            "New York             17\n",
            "New York_extra31     17\n",
            "Iowa                 27\n",
            "Iowa_extra14         27\n",
            "Name: fast_food_millions, dtype: int64\n"
          ]
        }
      ],
      "source": [
        "import pandas as pd\n",
        "import matplotlib.pyplot as plt\n",
        "top=df.groupby(\"state\")[\"fast_food_millions\"].sum().nlargest(10)\n",
        "bottom = df.groupby(\"state\")[\"fast_food_millions\"].sum().nsmallest(10)\n",
        "print(\"top\",top)\n",
        "print(\"bottom\",bottom)\n",
        "\n"
      ]
    },
    {
      "cell_type": "code",
      "execution_count": null,
      "metadata": {
        "colab": {
          "base_uri": "https://localhost:8080/",
          "height": 593
        },
        "id": "7Eo0yeNmS33o",
        "outputId": "9d89a0ff-e52b-4c80-c678-ffc239ccb686"
      },
      "outputs": [
        {
          "name": "stdout",
          "output_type": "stream",
          "text": [
            "region\n",
            "Midwest      53.080000\n",
            "Northeast    64.684211\n",
            "South        70.709677\n",
            "West         66.720000\n",
            "Name: fast_food_millions, dtype: float64\n"
          ]
        },
        {
          "data": {
            "text/plain": [
              "Text(0, 0.5, 'average fast food spending')"
            ]
          },
          "execution_count": 138,
          "metadata": {},
          "output_type": "execute_result"
        },
        {
          "data": {
            "image/png": "[encoded data removed]",
            "text/plain": [
              "<Figure size 640x480 with 1 Axes>"
            ]
          },
          "metadata": {},
          "output_type": "display_data"
        }
      ],
      "source": [
        "import matplotlib.pyplot as plt\n",
        "avg_spending_by_region=df.groupby(\"region\")[\"fast_food_millions\"].mean()\n",
        "print(avg_spending_by_region)\n",
        "plt.bar(avg_spending_by_region.index,avg_spending_by_region.values,edgecolor=\"black\")\n",
        "plt.title(\"average fast food spending by region\")\n",
        "plt.xlabel(\"region\")\n",
        "plt.ylabel(\"average fast food spending\")\n"
      ]
    },
    {
      "cell_type": "code",
      "execution_count": null,
      "metadata": {
        "colab": {
          "base_uri": "https://localhost:8080/",
          "height": 452
        },
        "id": "z9vwwlpyTPX7",
        "outputId": "28cdf843-0ca8-4d1b-8442-fbe16cc48913"
      },
      "outputs": [
        {
          "data": {
            "image/png": "[encoded data removed]",
            "text/plain": [
              "<Figure size 640x480 with 1 Axes>"
            ]
          },
          "metadata": {},
          "output_type": "display_data"
        }
      ],
      "source": [
        "import matplotlib.pyplot as plt\n",
        "plt.boxplot(df[\"fast_food_millions\"],vert=False)\n",
        "plt.title(\"boxplot of fast_food_millions grouped by region\")\n",
        "plt.show()"
      ]
    },
    {
      "cell_type": "markdown",
      "metadata": {
        "id": "R4WASLvFUCG-"
      },
      "source": [
        "Part 3 – Statistics\n",
        "\n",
        "Calculate the mean, median, mode, variance, and standard deviation of fast_food_millions.\n",
        "\n",
        "\n",
        "Find the region with the highest total spending.\n",
        "\n",
        "\n",
        "Probability: Select a random state. What is the probability that its fast food spending is above the national average?\n"
      ]
    },
    {
      "cell_type": "code",
      "execution_count": null,
      "metadata": {
        "colab": {
          "base_uri": "https://localhost:8080/"
        },
        "id": "JsLGNpazTPRg",
        "outputId": "b0d06a90-f0f6-4a19-9482-49379ecbc5e7"
      },
      "outputs": [
        {
          "name": "stdout",
          "output_type": "stream",
          "text": [
            "mean: 64.16\n",
            "meadian: 72.0\n",
            "mode: 0    100\n",
            "Name: fast_food_millions, dtype: int64\n"
          ]
        }
      ],
      "source": [
        "import pandas as pd\n",
        "import numpy as np\n",
        "print(\"mean:\",df[\"fast_food_millions\"].mean())\n",
        "print(\"meadian:\",df[\"fast_food_millions\"].median())\n",
        "print(\"mode:\",df[\"fast_food_millions\"].mode())"
      ]
    },
    {
      "cell_type": "code",
      "execution_count": null,
      "metadata": {
        "colab": {
          "base_uri": "https://localhost:8080/",
          "height": 35
        },
        "id": "6ymeTOOMUs0q",
        "outputId": "7da2245d-fd01-4554-e7b6-3f6c9f46b31e"
      },
      "outputs": [
        {
          "data": {
            "application/vnd.google.colaboratory.intrinsic+json": {
              "type": "string"
            },
            "text/plain": [
              "'South'"
            ]
          },
          "execution_count": 140,
          "metadata": {},
          "output_type": "execute_result"
        }
      ],
      "source": [
        "df.groupby(\"region\")[\"fast_food_millions\"].sum().sort_values(ascending=False).index[0]"
      ]
    },
    {
      "cell_type": "code",
      "execution_count": null,
      "metadata": {
        "colab": {
          "base_uri": "https://localhost:8080/"
        },
        "id": "MO6GZfyrU2aZ",
        "outputId": "fce6ce90-b23c-4d8c-c684-5b1182debca5"
      },
      "outputs": [
        {
          "name": "stdout",
          "output_type": "stream",
          "text": [
            "64.16\n",
            "0.59\n"
          ]
        }
      ],
      "source": [
        "m =df[\"fast_food_millions\"].mean()\n",
        "print(m)\n",
        "above_average = df[df[\"fast_food_millions\"] > m]\n",
        "probability = len(above_average) / len(df)\n",
        "print(probability)"
      ]
    },
    {
      "cell_type": "markdown",
      "metadata": {
        "id": "jc3NpPfBVZqI"
      },
      "source": [
        "Task 3:Represent fast_food_millions as a NumPy array.\n",
        "\n",
        "\n",
        "Create a constant vector representing a “health awareness factor” for each state (random values between 0 and 1).\n",
        "\n",
        "\n",
        "Perform vector addition & subtraction between the spending array and the health awareness vector.\n",
        "\n",
        "\n",
        "Compute the dot product between spending and the health awareness vector.\n",
        "\n",
        "\n",
        "Perform matrix multiplication:\n",
        "\n",
        "\n",
        "Features = [fast_food_millions, health_awareness_factor]\n",
        "\n",
        "\n",
        "Weight vector = [0.7, 0.3]"
      ]
    },
    {
      "cell_type": "code",
      "execution_count": null,
      "metadata": {
        "colab": {
          "base_uri": "https://localhost:8080/"
        },
        "id": "sApWhdXvVWAm",
        "outputId": "bd6fd379-58d0-458f-9abb-0c071036828e"
      },
      "outputs": [
        {
          "name": "stdout",
          "output_type": "stream",
          "text": [
            "[0.15663493 0.47271707 0.55625667 0.3743299  0.89043917 0.72162253\n",
            " 0.52843369 0.24472447 0.54026551 0.509083   0.44677108 0.82461905\n",
            " 0.08884593 0.66128451 0.91078299 0.68549739 0.3756019  0.44553797\n",
            " 0.89308266 0.04095809 0.3821587  0.40877265 0.85002903 0.47261079\n",
            " 0.8355324  0.98726856 0.56321596 0.52722878 0.35793733 0.73908956\n",
            " 0.9680065  0.98015297 0.90848708 0.95315959 0.42963759 0.57138142\n",
            " 0.49643739 0.14591196 0.4566958  0.7734978  0.77950373 0.96098832\n",
            " 0.33436315 0.80726271 0.81384565 0.26206897 0.59579488 0.35659965\n",
            " 0.49459082 0.5006074  0.08229536 0.72633815 0.2407685  0.33843632\n",
            " 0.50094005 0.92560155 0.63346771 0.96732664 0.91679777 0.34520066\n",
            " 0.65378447 0.56551609 0.5266311  0.19472288 0.59221864 0.32635234\n",
            " 0.31794938 0.0604601  0.66418544 0.7667212  0.27732291 0.58726402\n",
            " 0.11722042 0.05006942 0.9579082  0.01544445 0.96701073 0.66041928\n",
            " 0.73991859 0.64838784 0.48410352 0.96142082 0.82049896 0.69360232\n",
            " 0.64409562 0.82045876 0.21723934 0.33931283 0.46390316 0.96494364\n",
            " 0.79804117 0.74705142 0.99342761 0.4400859  0.79067357 0.94201017\n",
            " 0.06704637 0.35627145 0.74025102 0.84849806]\n"
          ]
        }
      ],
      "source": [
        "import numpy as np\n",
        "health_awareness_factor=np.random.random(len(df))\n",
        "print(health_awareness_factor)"
      ]
    },
    {
      "cell_type": "code",
      "execution_count": null,
      "metadata": {
        "colab": {
          "base_uri": "https://localhost:8080/"
        },
        "id": "yyf11cXXV7kK",
        "outputId": "fbfe2570-6751-4243-815b-d9ae2c3b9f6b"
      },
      "outputs": [
        {
          "name": "stdout",
          "output_type": "stream",
          "text": [
            "Mean: 64.16\n",
            "[ 83  80  81  84  78  81  99  67  82  99  85  71  87  69  73 100  92  92\n",
            "  98  93 100 100  94  79  80  84  69 100  80 100 100  80  85  85  83  99\n",
            "  69  71  98  79  94  67 100  79  87  73  79  82  67  67  98  73  92 100\n",
            "  92  87  73  81  82]\n",
            "[45 52 13 39 29 27 50 11 47 60 28 36 33 17 16 15 43 47 62 33 41 48 49 35\n",
            " 15 15 48 49 36 33 15 17 16 27 43 33 11 52 50 62 16]\n"
          ]
        }
      ],
      "source": [
        "import numpy as np\n",
        "\n",
        "mean = df[\"fast_food_millions\"].mean()\n",
        "print(\"Mean:\", mean)\n",
        "\n",
        "\n",
        "spending_array = df.loc[df[\"fast_food_millions\"] > mean, \"fast_food_millions\"].to_numpy()\n",
        "\n",
        "print(spending_array)\n",
        "\n",
        "health_awarness_vector = df.loc[df[\"fast_food_millions\"] < mean, \"fast_food_millions\"].to_numpy()\n",
        "\n",
        "print(health_awarness_vector)\n",
        "\n"
      ]
    },
    {
      "cell_type": "code",
      "execution_count": null,
      "metadata": {
        "colab": {
          "base_uri": "https://localhost:8080/"
        },
        "id": "hw6xWpDtXQiR",
        "outputId": "ba3a5a4a-23d3-4c12-cf75-0f6e1a6a6656"
      },
      "outputs": [
        {
          "name": "stdout",
          "output_type": "stream",
          "text": [
            "[[83 80]\n",
            " [67 98]]\n",
            "[[60 28]\n",
            " [36 17]]\n",
            "add: [[143 108]\n",
            " [103 115]]\n",
            "sub: [[23 52]\n",
            " [31 81]]\n",
            "mul: [[7860 3684]\n",
            " [7548 3542]]\n"
          ]
        }
      ],
      "source": [
        "new_spending = np.array([[83,80],[67,98]])\n",
        "print(new_spending)\n",
        "new_health = np.array([[60,28],[36,17]])\n",
        "print(new_health)\n",
        "add = np.add(new_spending,new_health)\n",
        "print(\"add:\",add)\n",
        "sub = np.subtract(new_spending,new_health)\n",
        "print(\"sub:\",sub)\n",
        "dot = np.dot(new_spending,new_health)\n",
        "print(\"mul:\",dot)"
      ]
    },
    {
      "cell_type": "code",
      "execution_count": null,
      "metadata": {
        "colab": {
          "base_uri": "https://localhost:8080/"
        },
        "id": "Jq2w6JhZfWMz",
        "outputId": "0c5b8fd6-d926-41a1-cc99-8598cb500dd2"
      },
      "outputs": [
        {
          "name": "stdout",
          "output_type": "stream",
          "text": [
            "[73.7     0.2508]\n"
          ]
        }
      ],
      "source": [
        "features = np.array([[83,52],[0.156,0.472]])\n",
        "weigths = np.array([0.7,0.3])\n",
        "\n",
        "result = features @ weigths\n",
        "print(result)\n",
        "\n"
      ]
    },
    {
      "cell_type": "markdown",
      "metadata": {
        "id": "FpuMoSAglWEo"
      },
      "source": [
        "\n",
        "Unhealthiness Index = (fast_food_millions / population_in_millions) * 100\n",
        "\n",
        "\n",
        " Find the derivative of the Unhealthiness Index with respect to fast_food_millions (use SymPy).\n",
        "\n",
        "\n",
        "Interpret the derivative.\n",
        "\n",
        "\n"
      ]
    },
    {
      "cell_type": "code",
      "execution_count": null,
      "metadata": {
        "colab": {
          "base_uri": "https://localhost:8080/"
        },
        "id": "sPpDfq6NlVf8",
        "outputId": "7f7304c5-9ed7-47f1-eb80-5aff41599ae6"
      },
      "outputs": [
        {
          "name": "stdout",
          "output_type": "stream",
          "text": [
            "Derivative formula: 100/population_in_millions\n",
            "1200000\n",
            "Derivative for group 1: 8.333333333333333e-05\n",
            "Derivative for group 2: 0.0004166666666666667\n",
            "Derivative for group 3: 0.0005555555555555556\n",
            "Derivative for group 4: 0.0002173913043478261\n"
          ]
        }
      ],
      "source": [
        "\n",
        "o_p = df.loc[df[\"fast_food_millions\"] <= 25, \"fast_food_millions\"].to_numpy()\n",
        "t_p = df.loc[(df[\"fast_food_millions\"] > 25) & (df[\"fast_food_millions\"] <= 50), \"fast_food_millions\"].to_numpy()\n",
        "th_p = df.loc[(df[\"fast_food_millions\"] > 50) & (df[\"fast_food_millions\"] <= 75), \"fast_food_millions\"].to_numpy()\n",
        "fo_p = df.loc[df[\"fast_food_millions\"] > 75, \"fast_food_millions\"].to_numpy()\n",
        "\n",
        "import sympy as sp\n",
        "f, p = sp.symbols('fast_food_millions population_in_millions')\n",
        "\n",
        "UI = (f / p) * 100\n",
        "dUI_df = sp.diff(UI, f)\n",
        "print(\"Derivative formula:\", dUI_df)\n",
        "\n",
        "\n",
        "pop_o = len(o_p)*100000\n",
        "pop_t = len(t_p)*100000\n",
        "pop_th = len(th_p)*100000\n",
        "pop_fo = len(fo_p)*100000\n",
        "\n",
        "print(\"Derivative for group 1:\", 100 / pop_o)\n",
        "print(\"Derivative for group 2:\", 100 / pop_t)\n",
        "print(\"Derivative for group 3:\", 100 / pop_th)\n",
        "print(\"Derivative for group 4:\", 100 / pop_fo)\n"
      ]
    },
    {
      "cell_type": "markdown",
      "metadata": {
        "id": "paMaU8qBsW-s"
      },
      "source": [
        "Part 6 – Feature Engineering\n",
        "\n",
        "\n",
        "Create a new column Above_Average (1 if spending is above the national average, else 0).\n",
        "\n",
        "\n",
        "Create Spending_Per_Capita using an additional population dataset (or synthetic values).\n",
        "\n",
        "\n",
        "Create Region_Rank based on total spending per region.\n",
        "\n",
        "\n",
        "Create Spending_Quartile ranking for fast_food_millions.\n"
      ]
    },
    {
      "cell_type": "code",
      "execution_count": null,
      "metadata": {
        "colab": {
          "base_uri": "https://localhost:8080/"
        },
        "id": "kEba0yZ8sWQB",
        "outputId": "d492feb9-d0ba-4167-9ef5-d4f12fb737fa"
      },
      "outputs": [
        {
          "name": "stdout",
          "output_type": "stream",
          "text": [
            "                    state     region  fast_food_millions  Above_Average  \\\n",
            "0                 Alabama      South                  83              1   \n",
            "1                  Alaska       West                  80              1   \n",
            "2                 Arizona       West                  81              1   \n",
            "3                Arkansas      South                  45              0   \n",
            "4              California       West                  52              0   \n",
            "..                    ...        ...                 ...            ...   \n",
            "95  New Hampshire_extra28  Northeast                  92              1   \n",
            "96    Mississippi_extra23      South                  87              1   \n",
            "97        Montana_extra25       West                  73              1   \n",
            "98         Hawaii_extra10       West                  81              1   \n",
            "99        Indiana_extra13    Midwest                  82              1   \n",
            "\n",
            "    Spending_Per_Capita  Region_Rank  Spending_Quartile  \n",
            "0              0.000180         2192                  2  \n",
            "1              0.000174         1668                  1  \n",
            "2              0.000176         1668                  1  \n",
            "3              0.000098         2192                  0  \n",
            "4              0.000113         1668                  1  \n",
            "..                  ...          ...                ...  \n",
            "95             0.000200         1229                  2  \n",
            "96             0.000189         2192                  2  \n",
            "97             0.000159         1668                  1  \n",
            "98             0.000176         1668                  1  \n",
            "99             0.000178         1327                  2  \n",
            "\n",
            "[100 rows x 7 columns]\n",
            "                    state     region  fast_food_millions  Above_Average  \\\n",
            "0                 Alabama      South                  83              1   \n",
            "1                  Alaska       West                  80              1   \n",
            "2                 Arizona       West                  81              1   \n",
            "3                Arkansas      South                  45              0   \n",
            "4              California       West                  52              0   \n",
            "..                    ...        ...                 ...            ...   \n",
            "95  New Hampshire_extra28  Northeast                  92              1   \n",
            "96    Mississippi_extra23      South                  87              1   \n",
            "97        Montana_extra25       West                  73              1   \n",
            "98         Hawaii_extra10       West                  81              1   \n",
            "99        Indiana_extra13    Midwest                  82              1   \n",
            "\n",
            "    Spending_Per_Capita  Region_Rank  Spending_Quartile  \n",
            "0              0.000180         2192                  2  \n",
            "1              0.000174         1668                  1  \n",
            "2              0.000176         1668                  1  \n",
            "3              0.000098         2192                  0  \n",
            "4              0.000113         1668                  1  \n",
            "..                  ...          ...                ...  \n",
            "95             0.000200         1229                  2  \n",
            "96             0.000189         2192                  2  \n",
            "97             0.000159         1668                  1  \n",
            "98             0.000176         1668                  1  \n",
            "99             0.000178         1327                  2  \n",
            "\n",
            "[100 rows x 7 columns]\n",
            "                    state     region  fast_food_millions  Above_Average  \\\n",
            "0                 Alabama      South                  83              1   \n",
            "1                  Alaska       West                  80              1   \n",
            "2                 Arizona       West                  81              1   \n",
            "3                Arkansas      South                  45              0   \n",
            "4              California       West                  52              0   \n",
            "..                    ...        ...                 ...            ...   \n",
            "95  New Hampshire_extra28  Northeast                  92              1   \n",
            "96    Mississippi_extra23      South                  87              1   \n",
            "97        Montana_extra25       West                  73              1   \n",
            "98         Hawaii_extra10       West                  81              1   \n",
            "99        Indiana_extra13    Midwest                  82              1   \n",
            "\n",
            "    Spending_Per_Capita  Region_Rank  Spending_Quartile  \n",
            "0              0.000180         2192                  2  \n",
            "1              0.000174         1668                  1  \n",
            "2              0.000176         1668                  1  \n",
            "3              0.000098         2192                  0  \n",
            "4              0.000113         1668                  1  \n",
            "..                  ...          ...                ...  \n",
            "95             0.000200         1229                  2  \n",
            "96             0.000189         2192                  2  \n",
            "97             0.000159         1668                  1  \n",
            "98             0.000176         1668                  1  \n",
            "99             0.000178         1327                  2  \n",
            "\n",
            "[100 rows x 7 columns]\n",
            "                    state     region  fast_food_millions  Above_Average  \\\n",
            "0                 Alabama      South                  83              1   \n",
            "1                  Alaska       West                  80              1   \n",
            "2                 Arizona       West                  81              1   \n",
            "3                Arkansas      South                  45              0   \n",
            "4              California       West                  52              0   \n",
            "..                    ...        ...                 ...            ...   \n",
            "95  New Hampshire_extra28  Northeast                  92              1   \n",
            "96    Mississippi_extra23      South                  87              1   \n",
            "97        Montana_extra25       West                  73              1   \n",
            "98         Hawaii_extra10       West                  81              1   \n",
            "99        Indiana_extra13    Midwest                  82              1   \n",
            "\n",
            "    Spending_Per_Capita  Region_Rank  Spending_Quartile  \n",
            "0              0.000180         2192                  2  \n",
            "1              0.000174         1668                  1  \n",
            "2              0.000176         1668                  1  \n",
            "3              0.000098         2192                  0  \n",
            "4              0.000113         1668                  1  \n",
            "..                  ...          ...                ...  \n",
            "95             0.000200         1229                  2  \n",
            "96             0.000189         2192                  2  \n",
            "97             0.000159         1668                  1  \n",
            "98             0.000176         1668                  1  \n",
            "99             0.000178         1327                  2  \n",
            "\n",
            "[100 rows x 7 columns]\n"
          ]
        }
      ],
      "source": [
        "import pandas as pd\n",
        "df[\"Above_Average\"] = (df[\"fast_food_millions\"] > df[\"fast_food_millions\"].mean()).astype(int)\n",
        "print(df)\n",
        "df['Spending_Per_Capita'] = df['fast_food_millions'] / pop_fo\n",
        "print(df)\n",
        "df['Spending_Quartile'] = pd.qcut(df['fast_food_millions'], q=3, labels=False)\n",
        "print(df)\n",
        "region_spending = df.groupby('region')['fast_food_millions'].sum()\n",
        "df['Region_Rank'] = df['region'].map(region_spending).sort_index(ascending=True)\n",
        "print(df)"
      ]
    },
    {
      "cell_type": "markdown",
      "metadata": {
        "id": "pK5OK2ARvCwC"
      },
      "source": [
        "Part 7 – SQL Simulation in Pandas\n",
        "\n",
        "Get the top 25% of states by fast_food_millions.\n",
        "\n",
        "\n",
        "Sort results by spending (desc) and state name (asc).\n",
        "\n",
        "\n",
        "Find the total spending per region.\n",
        "\n",
        "\n"
      ]
    },
    {
      "cell_type": "code",
      "execution_count": null,
      "metadata": {
        "colab": {
          "base_uri": "https://localhost:8080/"
        },
        "id": "Pn62Ie67sStQ",
        "outputId": "1f781552-080c-48f9-de75-3874b830e6a3"
      },
      "outputs": [
        {
          "name": "stdout",
          "output_type": "stream",
          "text": [
            "                     state     region  fast_food_millions  Above_Average  \\\n",
            "26                Nebraska    Midwest                 100              1   \n",
            "37            Pennsylvania  Northeast                 100              1   \n",
            "41               Tennessee      South                 100              1   \n",
            "53       Tennessee_extra41      South                 100              1   \n",
            "55    Pennsylvania_extra37  Northeast                 100              1   \n",
            "57        Nebraska_extra26    Midwest                 100              1   \n",
            "75    Pennsylvania_extra37  Northeast                 100              1   \n",
            "91       Tennessee_extra41      South                 100              1   \n",
            "11                   Idaho       West                  99              1   \n",
            "16                Kentucky      South                  99              1   \n",
            "64           Idaho_extra11       West                  99              1   \n",
            "32          North Carolina      South                  98              1   \n",
            "69  North Carolina_extra32      South                  98              1   \n",
            "86  North Carolina_extra32      South                  98              1   \n",
            "42                   Texas      South                  94              1   \n",
            "73           Texas_extra42      South                  94              1   \n",
            "36                  Oregon       West                  93              1   \n",
            "28           New Hampshire  Northeast                  92              1   \n",
            "30              New Mexico       West                  92              1   \n",
            "90   New Hampshire_extra28  Northeast                  92              1   \n",
            "95   New Hampshire_extra28  Northeast                  92              1   \n",
            "23             Mississippi      South                  87              1   \n",
            "78     Mississippi_extra23      South                  87              1   \n",
            "96     Mississippi_extra23      South                  87              1   \n",
            "18                   Maine  Northeast                  85              1   \n",
            "\n",
            "    Spending_Per_Capita  Region_Rank  Spending_Quartile  \n",
            "26             0.000217         1327                  3  \n",
            "37             0.000217         1229                  3  \n",
            "41             0.000217         2192                  3  \n",
            "53             0.000217         2192                  3  \n",
            "55             0.000217         1229                  3  \n",
            "57             0.000217         1327                  3  \n",
            "75             0.000217         1229                  3  \n",
            "91             0.000217         2192                  3  \n",
            "11             0.000215         1668                  3  \n",
            "16             0.000215         2192                  3  \n",
            "64             0.000215         1668                  3  \n",
            "32             0.000213         2192                  3  \n",
            "69             0.000213         2192                  3  \n",
            "86             0.000213         2192                  3  \n",
            "42             0.000204         2192                  3  \n",
            "73             0.000204         2192                  3  \n",
            "36             0.000202         1668                  3  \n",
            "28             0.000200         1229                  3  \n",
            "30             0.000200         1668                  3  \n",
            "90             0.000200         1229                  3  \n",
            "95             0.000200         1229                  3  \n",
            "23             0.000189         2192                  3  \n",
            "78             0.000189         2192                  3  \n",
            "96             0.000189         2192                  3  \n",
            "18             0.000185         1229                  2  \n",
            "                     state     region  fast_food_millions  Above_Average  \\\n",
            "26                Nebraska    Midwest                 100              1   \n",
            "57        Nebraska_extra26    Midwest                 100              1   \n",
            "37            Pennsylvania  Northeast                 100              1   \n",
            "55    Pennsylvania_extra37  Northeast                 100              1   \n",
            "75    Pennsylvania_extra37  Northeast                 100              1   \n",
            "41               Tennessee      South                 100              1   \n",
            "53       Tennessee_extra41      South                 100              1   \n",
            "91       Tennessee_extra41      South                 100              1   \n",
            "11                   Idaho       West                  99              1   \n",
            "64           Idaho_extra11       West                  99              1   \n",
            "16                Kentucky      South                  99              1   \n",
            "32          North Carolina      South                  98              1   \n",
            "69  North Carolina_extra32      South                  98              1   \n",
            "86  North Carolina_extra32      South                  98              1   \n",
            "42                   Texas      South                  94              1   \n",
            "73           Texas_extra42      South                  94              1   \n",
            "36                  Oregon       West                  93              1   \n",
            "28           New Hampshire  Northeast                  92              1   \n",
            "90   New Hampshire_extra28  Northeast                  92              1   \n",
            "95   New Hampshire_extra28  Northeast                  92              1   \n",
            "30              New Mexico       West                  92              1   \n",
            "23             Mississippi      South                  87              1   \n",
            "78     Mississippi_extra23      South                  87              1   \n",
            "96     Mississippi_extra23      South                  87              1   \n",
            "18                   Maine  Northeast                  85              1   \n",
            "\n",
            "    Spending_Per_Capita  Region_Rank  Spending_Quartile  \n",
            "26             0.000217         1327                  3  \n",
            "57             0.000217         1327                  3  \n",
            "37             0.000217         1229                  3  \n",
            "55             0.000217         1229                  3  \n",
            "75             0.000217         1229                  3  \n",
            "41             0.000217         2192                  3  \n",
            "53             0.000217         2192                  3  \n",
            "91             0.000217         2192                  3  \n",
            "11             0.000215         1668                  3  \n",
            "64             0.000215         1668                  3  \n",
            "16             0.000215         2192                  3  \n",
            "32             0.000213         2192                  3  \n",
            "69             0.000213         2192                  3  \n",
            "86             0.000213         2192                  3  \n",
            "42             0.000204         2192                  3  \n",
            "73             0.000204         2192                  3  \n",
            "36             0.000202         1668                  3  \n",
            "28             0.000200         1229                  3  \n",
            "90             0.000200         1229                  3  \n",
            "95             0.000200         1229                  3  \n",
            "30             0.000200         1668                  3  \n",
            "23             0.000189         2192                  3  \n",
            "78             0.000189         2192                  3  \n",
            "96             0.000189         2192                  3  \n",
            "18             0.000185         1229                  2  \n",
            "region\n",
            "Midwest      1327\n",
            "Northeast    1229\n",
            "South        2192\n",
            "West         1668\n",
            "Name: fast_food_millions, dtype: int64\n"
          ]
        }
      ],
      "source": [
        "import pandas as pd\n",
        "top_25_percent = df.nlargest(int(len(df) * 0.25), 'fast_food_millions')\n",
        "print(top_25_percent)\n",
        "sorted_df = top_25_percent.sort_values(by=['fast_food_millions', 'state'], ascending=[False, True])\n",
        "print(sorted_df)\n",
        "region_spending = df.groupby('region')['fast_food_millions'].sum()\n",
        "print(region_spending)"
      ]
    },
    {
      "cell_type": "markdown",
      "metadata": {
        "id": "rvjhg_iQv6zN"
      },
      "source": [
        "Part 8 – Insights\n",
        "\n",
        "\n",
        "Which region spends the most on fast food?\n",
        "\n",
        "\n",
        "Which state spends the most?\n",
        "\n",
        "\n",
        "What percentage of states spend more than the national average?\n",
        "\n",
        "\n",
        "Which quartile of states contributes the most to total fast food spending?\n"
      ]
    },
    {
      "cell_type": "code",
      "execution_count": null,
      "metadata": {
        "colab": {
          "base_uri": "https://localhost:8080/"
        },
        "id": "Dk0bN1uJv8qO",
        "outputId": "a3793230-5a2e-4ebc-de9e-64922dc07742"
      },
      "outputs": [
        {
          "name": "stdout",
          "output_type": "stream",
          "text": [
            "max_spending_region: South\n",
            "max_spending_state: Virginia_extra45\n",
            "percentage_above_average: 59.0\n",
            "max_spending_quartile: 2\n"
          ]
        }
      ],
      "source": [
        "import pandas as pd\n",
        "region_spending = df.groupby('region')['fast_food_millions'].sum()\n",
        "max_spending_region = region_spending.nlargest(1).index[0]\n",
        "print(\"max_spending_region:\",max_spending_region)\n",
        "state_spending = df.groupby('state')['fast_food_millions'].sum()\n",
        "max_spending_state = state_spending.sort_values(ascending=False).index[0]\n",
        "print(\"max_spending_state:\",max_spending_state)\n",
        "above_average_count = (df['fast_food_millions'] > df['fast_food_millions'].mean()).sum()\n",
        "total_states = len(df)\n",
        "percentage_above_average = (above_average_count / total_states) * 100\n",
        "print(\"percentage_above_average:\",percentage_above_average)\n",
        "\n",
        "quartile_spending = df.groupby('Spending_Quartile')['fast_food_millions'].sum()\n",
        "max_spending_quartile = quartile_spending.sort_values(ascending=False).index[0]\n",
        "print(\"max_spending_quartile:\",max_spending_quartile)"
      ]
    },
    {
      "cell_type": "code",
      "execution_count": null,
      "metadata": {
        "id": "DB41U3-rwkxM"
      },
      "outputs": [],
      "source": []
    }
  ],
  "metadata": {
    "colab": {
      "provenance": []
    },
    "kernelspec": {
      "display_name": "Python 3",
      "name": "python3"
    },
    "language_info": {
      "codemirror_mode": {
        "name": "ipython",
        "version": 3
      },
      "file_extension": ".py",
      "mimetype": "text/x-python",
      "name": "python",
      "nbconvert_exporter": "python",
      "pygments_lexer": "ipython3",
      "version": "3.12.0"
    }
  },
  "nbformat": 4,
  "nbformat_minor": 0
}
