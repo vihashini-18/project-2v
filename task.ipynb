{
 "cells": [
  {
   "cell_type": "code",
   "execution_count": 98,
   "id": "70696482",
   "metadata": {},
   "outputs": [],
   "source": [
    "import pandas as pd\n",
    "import numpy as np\n",
    "import matplotlib.pyplot as plt\n",
    "import seaborn as sns\n"
   ]
  },
  {
   "cell_type": "code",
   "execution_count": 99,
   "id": "c4b74041",
   "metadata": {},
   "outputs": [
    {
     "name": "stdout",
     "output_type": "stream",
     "text": [
      "                 Province/State       Country/Region       Lat        Long  \\\n",
      "0                           NaN          Afghanistan  33.93911   67.709953   \n",
      "1                           NaN              Albania  41.15330   20.168300   \n",
      "2                           NaN              Algeria  28.03390    1.659600   \n",
      "3                           NaN              Andorra  42.50630    1.521800   \n",
      "4                           NaN               Angola -11.20270   17.873900   \n",
      "5                           NaN  Antigua and Barbuda  17.06080  -61.796400   \n",
      "6                           NaN            Argentina -38.41610  -63.616700   \n",
      "7                           NaN              Armenia  40.06910   45.038200   \n",
      "8  Australian Capital Territory            Australia -35.47350  149.012400   \n",
      "9               New South Wales            Australia -33.86880  151.209300   \n",
      "\n",
      "         Date  Confirmed  Deaths  Recovered  Active             WHO Region  \n",
      "0  2020-01-22          0       0          0       0  Eastern Mediterranean  \n",
      "1  2020-01-22          0       0          0       0                 Europe  \n",
      "2  2020-01-22          0       0          0       0                 Africa  \n",
      "3  2020-01-22          0       0          0       0                 Europe  \n",
      "4  2020-01-22          0       0          0       0                 Africa  \n",
      "5  2020-01-22          0       0          0       0               Americas  \n",
      "6  2020-01-22          0       0          0       0               Americas  \n",
      "7  2020-01-22          0       0          0       0                 Europe  \n",
      "8  2020-01-22          0       0          0       0        Western Pacific  \n",
      "9  2020-01-22          0       0          0       0        Western Pacific  \n"
     ]
    }
   ],
   "source": [
    "df = pd.read_csv(\"C:/Users/VIHASHINI/Downloads/archive (4)/covid_19_clean_complete.csv\")\n",
    "\n",
    "print(df.head(10))\n",
    "\n",
    "\n"
   ]
  },
  {
   "cell_type": "code",
   "execution_count": 100,
   "id": "8fbc1120",
   "metadata": {},
   "outputs": [
    {
     "data": {
      "text/plain": [
       "Index(['Province/State', 'Country/Region', 'Lat', 'Long', 'Date', 'Confirmed',\n",
       "       'Deaths', 'Recovered', 'Active', 'WHO Region'],\n",
       "      dtype='object')"
      ]
     },
     "execution_count": 100,
     "metadata": {},
     "output_type": "execute_result"
    }
   ],
   "source": [
    "df.columns\n"
   ]
  },
  {
   "cell_type": "code",
   "execution_count": 101,
   "id": "1616b03b",
   "metadata": {},
   "outputs": [
    {
     "data": {
      "text/plain": [
       "(49068, 10)"
      ]
     },
     "execution_count": 101,
     "metadata": {},
     "output_type": "execute_result"
    }
   ],
   "source": [
    "df.shape"
   ]
  },
  {
   "cell_type": "code",
   "execution_count": 102,
   "id": "7e55dccc",
   "metadata": {},
   "outputs": [
    {
     "data": {
      "text/plain": [
       "Province/State     object\n",
       "Country/Region     object\n",
       "Lat               float64\n",
       "Long              float64\n",
       "Date               object\n",
       "Confirmed           int64\n",
       "Deaths              int64\n",
       "Recovered           int64\n",
       "Active              int64\n",
       "WHO Region         object\n",
       "dtype: object"
      ]
     },
     "execution_count": 102,
     "metadata": {},
     "output_type": "execute_result"
    }
   ],
   "source": [
    "df.dtypes"
   ]
  },
  {
   "cell_type": "code",
   "execution_count": 103,
   "id": "57658da5",
   "metadata": {},
   "outputs": [
    {
     "data": {
      "text/plain": [
       "Province/State    34404\n",
       "Country/Region        0\n",
       "Lat                   0\n",
       "Long                  0\n",
       "Date                  0\n",
       "Confirmed             0\n",
       "Deaths                0\n",
       "Recovered             0\n",
       "Active                0\n",
       "WHO Region            0\n",
       "dtype: int64"
      ]
     },
     "execution_count": 103,
     "metadata": {},
     "output_type": "execute_result"
    }
   ],
   "source": [
    "df.isnull().sum()\n",
    "\n"
   ]
  },
  {
   "cell_type": "code",
   "execution_count": 104,
   "id": "d61df2b1",
   "metadata": {},
   "outputs": [
    {
     "data": {
      "text/plain": [
       "np.int64(0)"
      ]
     },
     "execution_count": 104,
     "metadata": {},
     "output_type": "execute_result"
    }
   ],
   "source": [
    "df.duplicated().sum()"
   ]
  },
  {
   "cell_type": "code",
   "execution_count": 105,
   "id": "cb69d479",
   "metadata": {},
   "outputs": [
    {
     "data": {
      "text/html": [
       "<div>\n",
       "<style scoped>\n",
       "    .dataframe tbody tr th:only-of-type {\n",
       "        vertical-align: middle;\n",
       "    }\n",
       "\n",
       "    .dataframe tbody tr th {\n",
       "        vertical-align: top;\n",
       "    }\n",
       "\n",
       "    .dataframe thead th {\n",
       "        text-align: right;\n",
       "    }\n",
       "</style>\n",
       "<table border=\"1\" class=\"dataframe\">\n",
       "  <thead>\n",
       "    <tr style=\"text-align: right;\">\n",
       "      <th></th>\n",
       "      <th>Lat</th>\n",
       "      <th>Long</th>\n",
       "      <th>Confirmed</th>\n",
       "      <th>Deaths</th>\n",
       "      <th>Recovered</th>\n",
       "      <th>Active</th>\n",
       "    </tr>\n",
       "  </thead>\n",
       "  <tbody>\n",
       "    <tr>\n",
       "      <th>count</th>\n",
       "      <td>49068.000000</td>\n",
       "      <td>49068.000000</td>\n",
       "      <td>4.906800e+04</td>\n",
       "      <td>49068.000000</td>\n",
       "      <td>4.906800e+04</td>\n",
       "      <td>4.906800e+04</td>\n",
       "    </tr>\n",
       "    <tr>\n",
       "      <th>mean</th>\n",
       "      <td>21.433730</td>\n",
       "      <td>23.528236</td>\n",
       "      <td>1.688490e+04</td>\n",
       "      <td>884.179160</td>\n",
       "      <td>7.915713e+03</td>\n",
       "      <td>8.085012e+03</td>\n",
       "    </tr>\n",
       "    <tr>\n",
       "      <th>std</th>\n",
       "      <td>24.950320</td>\n",
       "      <td>70.442740</td>\n",
       "      <td>1.273002e+05</td>\n",
       "      <td>6313.584411</td>\n",
       "      <td>5.480092e+04</td>\n",
       "      <td>7.625890e+04</td>\n",
       "    </tr>\n",
       "    <tr>\n",
       "      <th>min</th>\n",
       "      <td>-51.796300</td>\n",
       "      <td>-135.000000</td>\n",
       "      <td>0.000000e+00</td>\n",
       "      <td>0.000000</td>\n",
       "      <td>0.000000e+00</td>\n",
       "      <td>-1.400000e+01</td>\n",
       "    </tr>\n",
       "    <tr>\n",
       "      <th>25%</th>\n",
       "      <td>7.873054</td>\n",
       "      <td>-15.310100</td>\n",
       "      <td>4.000000e+00</td>\n",
       "      <td>0.000000</td>\n",
       "      <td>0.000000e+00</td>\n",
       "      <td>0.000000e+00</td>\n",
       "    </tr>\n",
       "    <tr>\n",
       "      <th>50%</th>\n",
       "      <td>23.634500</td>\n",
       "      <td>21.745300</td>\n",
       "      <td>1.680000e+02</td>\n",
       "      <td>2.000000</td>\n",
       "      <td>2.900000e+01</td>\n",
       "      <td>2.600000e+01</td>\n",
       "    </tr>\n",
       "    <tr>\n",
       "      <th>75%</th>\n",
       "      <td>41.204380</td>\n",
       "      <td>80.771797</td>\n",
       "      <td>1.518250e+03</td>\n",
       "      <td>30.000000</td>\n",
       "      <td>6.660000e+02</td>\n",
       "      <td>6.060000e+02</td>\n",
       "    </tr>\n",
       "    <tr>\n",
       "      <th>max</th>\n",
       "      <td>71.706900</td>\n",
       "      <td>178.065000</td>\n",
       "      <td>4.290259e+06</td>\n",
       "      <td>148011.000000</td>\n",
       "      <td>1.846641e+06</td>\n",
       "      <td>2.816444e+06</td>\n",
       "    </tr>\n",
       "  </tbody>\n",
       "</table>\n",
       "</div>"
      ],
      "text/plain": [
       "                Lat          Long     Confirmed         Deaths     Recovered  \\\n",
       "count  49068.000000  49068.000000  4.906800e+04   49068.000000  4.906800e+04   \n",
       "mean      21.433730     23.528236  1.688490e+04     884.179160  7.915713e+03   \n",
       "std       24.950320     70.442740  1.273002e+05    6313.584411  5.480092e+04   \n",
       "min      -51.796300   -135.000000  0.000000e+00       0.000000  0.000000e+00   \n",
       "25%        7.873054    -15.310100  4.000000e+00       0.000000  0.000000e+00   \n",
       "50%       23.634500     21.745300  1.680000e+02       2.000000  2.900000e+01   \n",
       "75%       41.204380     80.771797  1.518250e+03      30.000000  6.660000e+02   \n",
       "max       71.706900    178.065000  4.290259e+06  148011.000000  1.846641e+06   \n",
       "\n",
       "             Active  \n",
       "count  4.906800e+04  \n",
       "mean   8.085012e+03  \n",
       "std    7.625890e+04  \n",
       "min   -1.400000e+01  \n",
       "25%    0.000000e+00  \n",
       "50%    2.600000e+01  \n",
       "75%    6.060000e+02  \n",
       "max    2.816444e+06  "
      ]
     },
     "execution_count": 105,
     "metadata": {},
     "output_type": "execute_result"
    }
   ],
   "source": [
    "df.describe()"
   ]
  },
  {
   "cell_type": "code",
   "execution_count": 106,
   "id": "278c48e5",
   "metadata": {},
   "outputs": [
    {
     "data": {
      "text/plain": [
       "187"
      ]
     },
     "execution_count": 106,
     "metadata": {},
     "output_type": "execute_result"
    }
   ],
   "source": [
    "df['Country/Region'].nunique()"
   ]
  },
  {
   "cell_type": "code",
   "execution_count": 107,
   "id": "11b35558",
   "metadata": {},
   "outputs": [
    {
     "data": {
      "text/plain": [
       "'2020-07-27'"
      ]
     },
     "execution_count": 107,
     "metadata": {},
     "output_type": "execute_result"
    }
   ],
   "source": [
    "df1['Date'].max()"
   ]
  },
  {
   "cell_type": "code",
   "execution_count": 108,
   "id": "39209122",
   "metadata": {},
   "outputs": [
    {
     "data": {
      "image/png": "[encoded data removed]",
      "text/plain": [
       "<Figure size 1200x600 with 1 Axes>"
      ]
     },
     "metadata": {},
     "output_type": "display_data"
    }
   ],
   "source": [
    "\n",
    "plt.figure(figsize=(12,6))\n",
    "plt.hist(df['Confirmed'], bins=10, color='skyblue', edgecolor='black')\n",
    "plt.xlabel('Confirmed Cases')\n",
    "plt.ylabel('Number of Countries')\n",
    "plt.title('Histogram of Confirmed COVID Cases')\n",
    "plt.show()\n"
   ]
  },
  {
   "cell_type": "code",
   "execution_count": 109,
   "id": "550450c4",
   "metadata": {},
   "outputs": [
    {
     "name": "stdout",
     "output_type": "stream",
     "text": [
      "Country/Region\n",
      "US                4290259\n",
      "Brazil            2442375\n",
      "India             1480073\n",
      "Russia             816680\n",
      "South Africa       452529\n",
      "Mexico             395489\n",
      "Peru               389717\n",
      "Chile              347923\n",
      "United Kingdom     301708\n",
      "Iran               293606\n",
      "Name: Confirmed, dtype: int64\n"
     ]
    }
   ],
   "source": [
    "df['Date'] = pd.to_datetime(df['Date'])\n",
    "\n",
    "\n",
    "latest_data = df[df['Date'] == df['Date'].max()]\n",
    "country_summary = latest_data.groupby('Country/Region')['Confirmed'].sum()\n",
    "\n",
    "\n",
    "top_10 = country_summary.nlargest(10)\n",
    "\n",
    "print(top_10)"
   ]
  },
  {
   "cell_type": "code",
   "execution_count": 110,
   "id": "52eb5e76",
   "metadata": {},
   "outputs": [
    {
     "name": "stdout",
     "output_type": "stream",
     "text": [
      "Country/Region\n",
      "US                148011\n",
      "Brazil             87618\n",
      "United Kingdom     45844\n",
      "Mexico             44022\n",
      "Italy              35112\n",
      "India              33408\n",
      "France             30212\n",
      "Spain              28432\n",
      "Peru               18418\n",
      "Iran               15912\n",
      "Name: Deaths, dtype: int64\n"
     ]
    }
   ],
   "source": [
    "country_deaths = latest_data.groupby('Country/Region')['Deaths'].sum()\n",
    "\n",
    "top_10_death = country_deaths.nlargest(10)\n",
    "\n",
    "print(top_10_death)"
   ]
  },
  {
   "cell_type": "code",
   "execution_count": 111,
   "id": "3105ed1d",
   "metadata": {},
   "outputs": [
    {
     "data": {
      "image/png": "[encoded data removed]",
      "text/plain": [
       "<Figure size 1000x600 with 1 Axes>"
      ]
     },
     "metadata": {},
     "output_type": "display_data"
    }
   ],
   "source": [
    "country_summary = latest_data.groupby('Country/Region')[['Confirmed', 'Deaths']].sum().reset_index()\n",
    "\n",
    "plt.figure(figsize=(10,6))\n",
    "sns.scatterplot(data=country_summary, x='Confirmed', y='Deaths', s=100)\n",
    "\n",
    "plt.title('COVID-19: Confirmed vs Deaths (Latest Date)')\n",
    "plt.xlabel('Confirmed Cases')\n",
    "plt.ylabel('Deaths')\n",
    "plt.grid(True)\n",
    "plt.show()"
   ]
  },
  {
   "cell_type": "code",
   "execution_count": 112,
   "id": "8ee655c1",
   "metadata": {},
   "outputs": [
    {
     "data": {
      "image/png": "[encoded data removed]",
      "text/plain": [
       "<Figure size 1200x600 with 1 Axes>"
      ]
     },
     "metadata": {},
     "output_type": "display_data"
    }
   ],
   "source": [
    "india_data = df[df['Country/Region'] == 'India']\n",
    "\n",
    "india_daily = india_data.groupby('Date')['Confirmed'].sum().reset_index()\n",
    "\n",
    "\n",
    "plt.figure(figsize=(12,6))\n",
    "sns.lineplot(data=india_daily, x='Date', y='Confirmed', marker='o')\n",
    "\n",
    "plt.title('COVID-19 Confirmed Cases Over Time in India')\n",
    "plt.xlabel('Date')\n",
    "plt.ylabel('Confirmed Cases')\n",
    "plt.xticks(rotation=45)\n",
    "plt.grid(True)\n",
    "plt.show()"
   ]
  },
  {
   "cell_type": "code",
   "execution_count": 113,
   "id": "d4f51124",
   "metadata": {},
   "outputs": [
    {
     "name": "stderr",
     "output_type": "stream",
     "text": [
      "C:\\Users\\VIHASHINI\\AppData\\Local\\Temp\\ipykernel_3168\\3817805551.py:13: SettingWithCopyWarning: \n",
      "A value is trying to be set on a copy of a slice from a DataFrame.\n",
      "Try using .loc[row_indexer,col_indexer] = value instead\n",
      "\n",
      "See the caveats in the documentation: https://pandas.pydata.org/pandas-docs/stable/user_guide/indexing.html#returning-a-view-versus-a-copy\n",
      "  latest_data['Continent'] = latest_data['Country/Region'].map(continent_map)\n",
      "C:\\Users\\VIHASHINI\\AppData\\Local\\Temp\\ipykernel_3168\\3817805551.py:20: FutureWarning: \n",
      "\n",
      "Passing `palette` without assigning `hue` is deprecated and will be removed in v0.14.0. Assign the `x` variable to `hue` and set `legend=False` for the same effect.\n",
      "\n",
      "  sns.barplot(data=continent_summary, x='Continent', y='Confirmed', palette='viridis')\n"
     ]
    },
    {
     "data": {
      "image/png": "[encoded data removed]",
      "text/plain": [
       "<Figure size 1000x600 with 1 Axes>"
      ]
     },
     "metadata": {},
     "output_type": "display_data"
    }
   ],
   "source": [
    "continent_map = {\n",
    "    'India': 'Asia',\n",
    "    'USA': 'North America',\n",
    "    'Brazil': 'South America',\n",
    "    'France': 'Europe',\n",
    "    'Germany': 'Europe',\n",
    "    'China': 'Asia',\n",
    "    'South Africa': 'Africa',\n",
    "   \n",
    "}\n",
    "\n",
    "\n",
    "latest_data['Continent'] = latest_data['Country/Region'].map(continent_map)\n",
    "\n",
    "\n",
    "continent_summary = latest_data.groupby('Continent')['Confirmed'].sum().reset_index()\n",
    "\n",
    "\n",
    "plt.figure(figsize=(10,6))\n",
    "sns.barplot(data=continent_summary, x='Continent', y='Confirmed', palette='viridis')\n",
    "\n",
    "plt.title('Total Confirmed Cases by Continent (Latest Date)')\n",
    "plt.xlabel('Continent')\n",
    "plt.ylabel('Confirmed Cases')\n",
    "plt.show()"
   ]
  },
  {
   "cell_type": "code",
   "execution_count": null,
   "id": "f0066e15",
   "metadata": {},
   "outputs": [
    {
     "name": "stdout",
     "output_type": "stream",
     "text": [
      "Mean confirmed cases: 88130.935828877\n",
      "Median confirmed cases: 5059.0\n"
     ]
    }
   ],
   "source": [
    "\n",
    "country_summary = latest_data.groupby('Country/Region')['Confirmed'].sum().values  \n",
    "\n",
    "\n",
    "mean_confirmed = np.mean(country_summary)\n",
    "\n",
    "\n",
    "median_confirmed = np.median(country_summary)\n",
    "\n",
    "\n",
    "\n",
    "\n",
    "print(f\"Mean confirmed cases: {mean_confirmed}\")\n",
    "print(f\"Median confirmed cases: {median_confirmed}\")\n",
    "\n"
   ]
  },
  {
   "cell_type": "code",
   "execution_count": 119,
   "id": "ab4d0ccb",
   "metadata": {},
   "outputs": [
    {
     "name": "stdout",
     "output_type": "stream",
     "text": [
      "Variance of death counts: 197746914.53841978\n",
      "Standard deviation of death counts: 14062.251403613142\n"
     ]
    }
   ],
   "source": [
    "death_counts = latest_data.groupby('Country/Region')['Deaths'].sum().values  \n",
    "\n",
    "\n",
    "variance_deaths = np.var(death_counts, ddof=0)  \n",
    "# For sample variance use ddof=1: np.var(death_counts, ddof=1)\n",
    "\n",
    "std_deaths = np.std(death_counts, ddof=0)  # population std\n",
    "# For sample std use ddof=1: np.std(death_counts, ddof=1)\n",
    "\n",
    "print(f\"Variance of death counts: {variance_deaths}\")\n",
    "print(f\"Standard deviation of death counts: {std_deaths}\")"
   ]
  },
  {
   "cell_type": "code",
   "execution_count": 126,
   "id": "3d2acb37",
   "metadata": {},
   "outputs": [
    {
     "name": "stdout",
     "output_type": "stream",
     "text": [
      "Correlation between confirmed and death counts: 0.9346984343393535\n",
      "Numpy correlation coefficient: 0.9346984343393535\n"
     ]
    }
   ],
   "source": [
    "\n",
    "\n",
    "df['Date'] = pd.to_datetime(df['Date'])\n",
    "\n",
    "\n",
    "latest_data = df[df['Date'] == df['Date'].max()]\n",
    "\n",
    "country_summary = latest_data.groupby('Country/Region')[['Confirmed', 'Deaths']].sum()\n",
    "\n",
    "\n",
    "correlation = country_summary['Confirmed'].corr(country_summary['Deaths'])\n",
    "print(f\"Correlation between confirmed and death counts: {correlation}\")\n",
    "\n",
    "\n",
    "corr_matrix = np.corrcoef(country_summary['Confirmed'], country_summary['Deaths'])\n",
    "print(f\"Numpy correlation coefficient: {corr_matrix[0,1]}\")\n"
   ]
  },
  {
   "cell_type": "code",
   "execution_count": 131,
   "id": "4dbc1c37",
   "metadata": {},
   "outputs": [
    {
     "name": "stdout",
     "output_type": "stream",
     "text": [
      "Probability that a random country has more than 100,000 confirmed cases: 0.1283\n"
     ]
    }
   ],
   "source": [
    "\n",
    "\n",
    "\n",
    "country_summary = latest_data.groupby('Country/Region')['Confirmed'].sum()  \n",
    "\n",
    "\n",
    "total_countries = country_summary.shape[0]\n",
    "\n",
    "countries_over_100k = (country_summary > 100000).sum()\n",
    "\n",
    "\n",
    "probability = countries_over_100k / total_countries\n",
    "\n",
    "print(f\"Probability that a random country has more than 100,000 confirmed cases: {probability:.4f}\")\n"
   ]
  },
  {
   "cell_type": "code",
   "execution_count": 134,
   "id": "a43a03a2",
   "metadata": {},
   "outputs": [
    {
     "name": "stdout",
     "output_type": "stream",
     "text": [
      "Probability that a random country has a death rate > 5%: 0.1551\n"
     ]
    }
   ],
   "source": [
    "import pandas as pd\n",
    "\n",
    "\n",
    "\n",
    "df['Date'] = pd.to_datetime(df['Date'])\n",
    "\n",
    "latest_data = df[df['Date'] == df['Date'].max()]\n",
    "\n",
    "country_summary = latest_data.groupby('Country/Region')[['Confirmed', 'Deaths']].sum()\n",
    "\n",
    "country_summary['Death_Rate'] = (country_summary['Deaths'] / country_summary['Confirmed']) * 100\n",
    "\n",
    "\n",
    "total_countries = country_summary.shape[0]\n",
    "\n",
    "# Number of countries with death rate > 5%\n",
    "countries_over_5pct = (country_summary['Death_Rate'] > 5).sum()\n",
    "\n",
    "probability = countries_over_5pct / total_countries\n",
    "\n",
    "print(f\"Probability that a random country has a death rate > 5%: {probability:.4f}\")\n"
   ]
  },
  {
   "cell_type": "code",
   "execution_count": 136,
   "id": "2c73d2e7",
   "metadata": {},
   "outputs": [
    {
     "name": "stdout",
     "output_type": "stream",
     "text": [
      "Confirmed cases array: [  36263    4880   27973     907     950      86  167416   37390   15303\n",
      "   20558   30446     382   39482  226225     110   67251   66428      48\n",
      "    1770      99   71181   10498     739 2442375     141   10621    1100\n",
      "     350     378    2328     226   17110  116458    4599     922  347923\n",
      "   86783  257101     354    3200    8844   15841   15655    4881    2532\n",
      "    1060   15516   13761    5059      18   64156   81161   92482   15035\n",
      "    3071     265    2034    2316   14547      27    7398  220352    7189\n",
      "     326    1137  207112   33624    4227      14      23   45309    7055\n",
      "    1954     389    7340      12   39741    4448    1854 1480073  100303\n",
      "  293606  112585   25892   63985  246286     853   31142    1176   84648\n",
      "   17975    7413   64379   33296      20    1219    3882     505    1167\n",
      "    2827      86    2019    6321    9690    3664    8904    3369    2513\n",
      "     701    6208     344  395489   23154     116     289    2893   20887\n",
      "    1701    1843   18752   53413    1557    3439    1132   41180   10213\n",
      "    9132   77058  274289   61442      62    4548  389717   82040   43402\n",
      "   50299  109597   45902  816680    1879      17      24      52     699\n",
      "     865  268934    9764   24141     114    1783   50838    2181    2087\n",
      "    3196  452529   14203    2305  272421    2805   11424    1483   79395\n",
      "   34477     674     462    7235     509    3297      24     874     148\n",
      "    1455  227019 4290259    1128   67096   59177  301708    1202   21209\n",
      "   15988     431   10621      10    1691    4552    2704]\n",
      "Deaths array: [  1269    144   1163     52     41      3   3059    711    167    713\n",
      "    423     11    141   2965      7    538   9822      2     35      0\n",
      "   2647    294      2  87618      3    347     53      6      1     22\n",
      "      0    391   8944     59     75   9187   4656   8777      7     54\n",
      "    208    115     96    139     87     19    373    613     58      0\n",
      "   1083   5532   4652    408     51      0     69     34    228      0\n",
      "    329  30212     49      8     16   9125    168    202      0      0\n",
      "   1761     45     26     20    158      0   1166    596     10  33408\n",
      "   4838  15912   4458   1764    474  35112     10    998     11    585\n",
      "    285    185    438   1301      0     31     51     12     72     64\n",
      "      1     80    112     91     99    124     15    124      9    156\n",
      "     10  44022    748      4      0     45    316     11      8     48\n",
      "   6160     22    108     69    860    466    255    393   5842   1322\n",
      "      0     43  18418   1945   1676   1719    165   2206  13334      5\n",
      "      0      0      0     42     14   2760    194    543      0     66\n",
      "     27     28    116     93   7067    300     46  28432     11    720\n",
      "     24   5700   1978     40      7     60     21     58      0     18\n",
      "      8     50   5630 148011      2   1636    345  45844     35    121\n",
      "    146      0     78      1    483    140     36]\n"
     ]
    }
   ],
   "source": [
    "confirmed_array = country_summary['Confirmed'].to_numpy()\n",
    "deaths_array = country_summary['Deaths'].to_numpy()\n",
    "\n",
    "print(\"Confirmed cases array:\", confirmed_array)\n",
    "print(\"Deaths array:\", deaths_array)\n"
   ]
  },
  {
   "cell_type": "code",
   "execution_count": 137,
   "id": "96c25ad6",
   "metadata": {},
   "outputs": [
    {
     "name": "stdout",
     "output_type": "stream",
     "text": [
      "Active cases array (confirmed - deaths): [  34994    4736   26810     855     909      83  164357   36679   15136\n",
      "   19845   30023     371   39341  223260     103   66713   56606      46\n",
      "    1735      99   68534   10204     737 2354757     138   10274    1047\n",
      "     344     377    2306     226   16719  107514    4540     847  338736\n",
      "   82127  248324     347    3146    8636   15726   15559    4742    2445\n",
      "    1041   15143   13148    5001      18   63073   75629   87830   14627\n",
      "    3020     265    1965    2282   14319      27    7069  190140    7140\n",
      "     318    1121  197987   33456    4025      14      23   43548    7010\n",
      "    1928     369    7182      12   38575    3852    1844 1446665   95465\n",
      "  277694  108127   24128   63511  211174     843   30144    1165   84063\n",
      "   17690    7228   63941   31995      20    1188    3831     493    1095\n",
      "    2763      85    1939    6209    9599    3565    8780    3354    2389\n",
      "     692    6052     334  351467   22406     112     289    2848   20571\n",
      "    1690    1835   18704   47253    1535    3331    1063   40320    9747\n",
      "    8877   76665  268447   60120      62    4505  371299   80095   41726\n",
      "   48580  109432   43696  803346    1874      17      24      52     657\n",
      "     851  266174    9570   23598     114    1717   50811    2153    1971\n",
      "    3103  445462   13903    2259  243989    2794   10704    1459   73695\n",
      "   32499     634     455    7175     488    3239      24     856     140\n",
      "    1405  221389 4142248    1126   65460   58832  255864    1167   21088\n",
      "   15842     431   10543       9    1208    4412    2668]\n"
     ]
    }
   ],
   "source": [
    "\n",
    "active_array = confirmed_array - deaths_array\n",
    "\n",
    "print(\"Active cases array (confirmed - deaths):\", active_array)\n"
   ]
  },
  {
   "cell_type": "code",
   "execution_count": 138,
   "id": "e786b77e",
   "metadata": {},
   "outputs": [
    {
     "data": {
      "text/plain": [
       "np.int64(997285387205)"
      ]
     },
     "execution_count": 138,
     "metadata": {},
     "output_type": "execute_result"
    }
   ],
   "source": [
    "np.dot(confirmed_array,deaths_array)"
   ]
  },
  {
   "cell_type": "code",
   "execution_count": 140,
   "id": "c403a2a5",
   "metadata": {},
   "outputs": [
    {
     "name": "stdout",
     "output_type": "stream",
     "text": [
      "Weighted sum array: [2.5764800e+04 3.4592000e+03 1.9930000e+04 6.5050000e+02 6.7730000e+02\n",
      " 6.1100000e+01 1.1810890e+05 2.6386300e+04 1.0762200e+04 1.4604500e+04\n",
      " 2.1439100e+04 2.7070000e+02 2.7679700e+04 1.5924700e+05 7.9100000e+01\n",
      " 4.7237100e+04 4.9446200e+04 3.4200000e+01 1.2495000e+03 6.9300000e+01\n",
      " 5.0620800e+04 7.4368000e+03 5.1790000e+02 1.7359479e+06 9.9600000e+01\n",
      " 7.5388000e+03 7.8590000e+02 2.4680000e+02 2.6490000e+02 1.6362000e+03\n",
      " 1.5820000e+02 1.2094300e+04 8.4203800e+04 3.2370000e+03 6.6790000e+02\n",
      " 2.4630220e+05 6.2144900e+04 1.8260380e+05 2.4990000e+02 2.2562000e+03\n",
      " 6.2532000e+03 1.1123200e+04 1.0987300e+04 3.4584000e+03 1.7985000e+03\n",
      " 7.4770000e+02 1.0973100e+04 9.8166000e+03 3.5587000e+03 1.2600000e+01\n",
      " 4.5234100e+04 5.8472300e+04 6.6133000e+04 1.0646900e+04 2.1650000e+03\n",
      " 1.8550000e+02 1.4445000e+03 1.6314000e+03 1.0251300e+04 1.8900000e+01\n",
      " 5.2773000e+03 1.6331000e+05 5.0470000e+03 2.3060000e+02 8.0070000e+02\n",
      " 1.4771590e+05 2.3587200e+04 3.0195000e+03 9.8000000e+00 1.6100000e+01\n",
      " 3.2244600e+04 4.9520000e+03 1.3756000e+03 2.7830000e+02 5.1854000e+03\n",
      " 8.4000000e+00 2.8168500e+04 3.2924000e+03 1.3008000e+03 1.0460735e+06\n",
      " 7.1663500e+04 2.1029780e+05 8.0146900e+04 1.8653600e+04 4.4931700e+04\n",
      " 1.8293380e+05 6.0010000e+02 2.2098800e+04 8.2650000e+02 5.9429100e+04\n",
      " 1.2668000e+04 5.2446000e+03 4.5196700e+04 2.3697500e+04 1.4000000e+01\n",
      " 8.6260000e+02 2.7327000e+03 3.5710000e+02 8.3850000e+02 1.9981000e+03\n",
      " 6.0500000e+01 1.4373000e+03 4.4583000e+03 6.8103000e+03 2.5945000e+03\n",
      " 6.2700000e+03 2.3628000e+03 1.7963000e+03 4.9340000e+02 4.3924000e+03\n",
      " 2.4380000e+02 2.9004890e+05 1.6432200e+04 8.2400000e+01 2.0230000e+02\n",
      " 2.0386000e+03 1.4715700e+04 1.1940000e+03 1.2925000e+03 1.3140800e+04\n",
      " 3.9237100e+04 1.0965000e+03 2.4397000e+03 8.1310000e+02 2.9084000e+04\n",
      " 7.2889000e+03 6.4689000e+03 5.4058500e+04 1.9375490e+05 4.3406000e+04\n",
      " 4.3400000e+01 3.1965000e+03 2.7832730e+05 5.8011500e+04 3.0884200e+04\n",
      " 3.5725000e+04 7.6767400e+04 3.2793200e+04 5.7567620e+05 1.3168000e+03\n",
      " 1.1900000e+01 1.6800000e+01 3.6400000e+01 5.0190000e+02 6.0970000e+02\n",
      " 1.8908180e+05 6.8930000e+03 1.7061600e+04 7.9800000e+01 1.2679000e+03\n",
      " 3.5594700e+04 1.5351000e+03 1.4957000e+03 2.2651000e+03 3.1889040e+05\n",
      " 1.0032100e+04 1.6273000e+03 1.9922430e+05 1.9668000e+03 8.2128000e+03\n",
      " 1.0453000e+03 5.7286500e+04 2.4727300e+04 4.8380000e+02 3.2550000e+02\n",
      " 5.0825000e+03 3.6260000e+02 2.3253000e+03 1.6800000e+01 6.1720000e+02\n",
      " 1.0600000e+02 1.0335000e+03 1.6060230e+05 3.0475846e+06 7.9020000e+02\n",
      " 4.7458000e+04 4.1527400e+04 2.2494880e+05 8.5190000e+02 1.4882600e+04\n",
      " 1.1235400e+04 3.0170000e+02 7.4581000e+03 7.3000000e+00 1.3286000e+03\n",
      " 3.2284000e+03 1.9036000e+03]\n"
     ]
    }
   ],
   "source": [
    "\n",
    "matrix = country_summary[['Confirmed', 'Deaths']].to_numpy()\n",
    "\n",
    "\n",
    "weights = np.array([0.7, 0.3])\n",
    "\n",
    "weighted_sum = matrix @ weights  \n",
    "print(\"Weighted sum array:\", weighted_sum)\n",
    "\n"
   ]
  },
  {
   "cell_type": "code",
   "execution_count": null,
   "id": "bb0211bb",
   "metadata": {},
   "outputs": [],
   "source": []
  }
 ],
 "metadata": {
  "kernelspec": {
   "display_name": "Python 3",
   "language": "python",
   "name": "python3"
  },
  "language_info": {
   "codemirror_mode": {
    "name": "ipython",
    "version": 3
   },
   "file_extension": ".py",
   "mimetype": "text/x-python",
   "name": "python",
   "nbconvert_exporter": "python",
   "pygments_lexer": "ipython3",
   "version": "3.12.0"
  }
 },
 "nbformat": 4,
 "nbformat_minor": 5
}
